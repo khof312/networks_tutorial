{
 "cells": [
  {
   "cell_type": "markdown",
   "metadata": {},
   "source": [
    "This tutorial is Part 2 of an introduction to social network analysis in Python. It covers how to sample and visualize network data. The primary example used for replication is Adamic and Glance's (2005) paper on relationships between political blogs ahead of the 2004 election. The paper is available here and is the source of all figures included below. We use the GML file available [here](http://www.thomaspadilla.org/data/network/polblogs/polblogs.gml) or [here](http://www-personal.umich.edu/~mejn/netdata/) ([documentation](http://www.thomaspadilla.org/data/network/polblogs/polblogs.txt))."
   ]
  },
  {
   "cell_type": "markdown",
   "metadata": {
    "toc": true
   },
   "source": [
    "<h1>Table of Contents<span class=\"tocSkip\"></span></h1>\n",
    "<div class=\"toc\"><ul class=\"toc-item\"><li><span><a href=\"#Importing-external-data-files\" data-toc-modified-id=\"Importing-external-data-files-1\"><span class=\"toc-item-num\">1&nbsp;&nbsp;</span>Importing external data files</a></span></li><li><span><a href=\"#Downsampling-graphs\" data-toc-modified-id=\"Downsampling-graphs-2\"><span class=\"toc-item-num\">2&nbsp;&nbsp;</span>Downsampling graphs</a></span><ul class=\"toc-item\"><li><span><a href=\"#Snowball-sample\" data-toc-modified-id=\"Snowball-sample-2.1\"><span class=\"toc-item-num\">2.1&nbsp;&nbsp;</span>Snowball sample</a></span><ul class=\"toc-item\"><li><span><a href=\"#Snowball-sampling-with-single-source-shortest-paths\" data-toc-modified-id=\"Snowball-sampling-with-single-source-shortest-paths-2.1.1\"><span class=\"toc-item-num\">2.1.1&nbsp;&nbsp;</span>Snowball sampling with single-source-shortest-paths</a></span></li><li><span><a href=\"#Snowball-sampling-with-breadth-first-search\" data-toc-modified-id=\"Snowball-sampling-with-breadth-first-search-2.1.2\"><span class=\"toc-item-num\">2.1.2&nbsp;&nbsp;</span>Snowball sampling with breadth-first search</a></span></li></ul></li><li><span><a href=\"#Node-and-edge-samples\" data-toc-modified-id=\"Node-and-edge-samples-2.2\"><span class=\"toc-item-num\">2.2&nbsp;&nbsp;</span>Node and edge samples</a></span></li></ul></li><li><span><a href=\"#Plotting\" data-toc-modified-id=\"Plotting-3\"><span class=\"toc-item-num\">3&nbsp;&nbsp;</span>Plotting</a></span><ul class=\"toc-item\"><li><span><a href=\"#Graph-Layouts\" data-toc-modified-id=\"Graph-Layouts-3.1\"><span class=\"toc-item-num\">3.1&nbsp;&nbsp;</span>Graph Layouts</a></span><ul class=\"toc-item\"><li><span><a href=\"#Default-(spring)-layout\" data-toc-modified-id=\"Default-(spring)-layout-3.1.1\"><span class=\"toc-item-num\">3.1.1&nbsp;&nbsp;</span>Default (spring) layout</a></span></li><li><span><a href=\"#Random-layout\" data-toc-modified-id=\"Random-layout-3.1.2\"><span class=\"toc-item-num\">3.1.2&nbsp;&nbsp;</span>Random layout</a></span></li><li><span><a href=\"#Kamada-Kawai-(force-directed)-layout\" data-toc-modified-id=\"Kamada-Kawai-(force-directed)-layout-3.1.3\"><span class=\"toc-item-num\">3.1.3&nbsp;&nbsp;</span>Kamada-Kawai (force-directed) layout</a></span></li><li><span><a href=\"#Layouts-overview\" data-toc-modified-id=\"Layouts-overview-3.1.4\"><span class=\"toc-item-num\">3.1.4&nbsp;&nbsp;</span>Layouts overview</a></span></li><li><span><a href=\"#Tuning-graph-layouts\" data-toc-modified-id=\"Tuning-graph-layouts-3.1.5\"><span class=\"toc-item-num\">3.1.5&nbsp;&nbsp;</span>Tuning graph layouts</a></span></li></ul></li><li><span><a href=\"#Styling-the-plot-aesthetic\" data-toc-modified-id=\"Styling-the-plot-aesthetic-3.2\"><span class=\"toc-item-num\">3.2&nbsp;&nbsp;</span>Styling the plot aesthetic</a></span><ul class=\"toc-item\"><li><span><a href=\"#Plotting-the-default\" data-toc-modified-id=\"Plotting-the-default-3.2.1\"><span class=\"toc-item-num\">3.2.1&nbsp;&nbsp;</span>Plotting the default</a></span></li><li><span><a href=\"#Change-sizes-of-nodes,-edges,-or-arrows\" data-toc-modified-id=\"Change-sizes-of-nodes,-edges,-or-arrows-3.2.2\"><span class=\"toc-item-num\">3.2.2&nbsp;&nbsp;</span>Change sizes of nodes, edges, or arrows</a></span></li><li><span><a href=\"#Change-colors-of-nodes-or-edges\" data-toc-modified-id=\"Change-colors-of-nodes-or-edges-3.2.3\"><span class=\"toc-item-num\">3.2.3&nbsp;&nbsp;</span>Change colors of nodes or edges</a></span></li><li><span><a href=\"#Change-styling-of-nodes-or-arrows\" data-toc-modified-id=\"Change-styling-of-nodes-or-arrows-3.2.4\"><span class=\"toc-item-num\">3.2.4&nbsp;&nbsp;</span>Change styling of nodes or arrows</a></span></li><li><span><a href=\"#Turn-plot-features-on-and-off\" data-toc-modified-id=\"Turn-plot-features-on-and-off-3.2.5\"><span class=\"toc-item-num\">3.2.5&nbsp;&nbsp;</span>Turn plot features on and off</a></span></li><li><span><a href=\"#Adding-text\" data-toc-modified-id=\"Adding-text-3.2.6\"><span class=\"toc-item-num\">3.2.6&nbsp;&nbsp;</span>Adding text</a></span></li></ul></li><li><span><a href=\"#Drawing-attention-to-selected-features\" data-toc-modified-id=\"Drawing-attention-to-selected-features-3.3\"><span class=\"toc-item-num\">3.3&nbsp;&nbsp;</span>Drawing attention to selected features</a></span><ul class=\"toc-item\"><li><span><a href=\"#Drawing-selected-nodes\" data-toc-modified-id=\"Drawing-selected-nodes-3.3.1\"><span class=\"toc-item-num\">3.3.1&nbsp;&nbsp;</span>Drawing selected nodes</a></span></li><li><span><a href=\"#Drawing-selected-node-labels\" data-toc-modified-id=\"Drawing-selected-node-labels-3.3.2\"><span class=\"toc-item-num\">3.3.2&nbsp;&nbsp;</span>Drawing selected node labels</a></span></li><li><span><a href=\"#Drawing-selected-edges\" data-toc-modified-id=\"Drawing-selected-edges-3.3.3\"><span class=\"toc-item-num\">3.3.3&nbsp;&nbsp;</span>Drawing selected edges</a></span></li><li><span><a href=\"#Drawing-selected-edge-labels\" data-toc-modified-id=\"Drawing-selected-edge-labels-3.3.4\"><span class=\"toc-item-num\">3.3.4&nbsp;&nbsp;</span>Drawing selected edge labels</a></span></li></ul></li><li><span><a href=\"#Illustrating-discrete-attributes\" data-toc-modified-id=\"Illustrating-discrete-attributes-3.4\"><span class=\"toc-item-num\">3.4&nbsp;&nbsp;</span>Illustrating discrete attributes</a></span><ul class=\"toc-item\"><li><span><a href=\"#Coloring-nodes-by-label\" data-toc-modified-id=\"Coloring-nodes-by-label-3.4.1\"><span class=\"toc-item-num\">3.4.1&nbsp;&nbsp;</span>Coloring nodes by label</a></span></li><li><span><a href=\"#Coloring-edges-by-node-label\" data-toc-modified-id=\"Coloring-edges-by-node-label-3.4.2\"><span class=\"toc-item-num\">3.4.2&nbsp;&nbsp;</span>Coloring edges by node label</a></span></li></ul></li><li><span><a href=\"#Illustrating-continuous-attributes\" data-toc-modified-id=\"Illustrating-continuous-attributes-3.5\"><span class=\"toc-item-num\">3.5&nbsp;&nbsp;</span>Illustrating continuous attributes</a></span><ul class=\"toc-item\"><li><span><a href=\"#Sizing-nodes-by-value\" data-toc-modified-id=\"Sizing-nodes-by-value-3.5.1\"><span class=\"toc-item-num\">3.5.1&nbsp;&nbsp;</span>Sizing nodes by value</a></span><ul class=\"toc-item\"><li><span><a href=\"#Degree\" data-toc-modified-id=\"Degree-3.5.1.1\"><span class=\"toc-item-num\">3.5.1.1&nbsp;&nbsp;</span>Degree</a></span></li><li><span><a href=\"#Pagerank\" data-toc-modified-id=\"Pagerank-3.5.1.2\"><span class=\"toc-item-num\">3.5.1.2&nbsp;&nbsp;</span>Pagerank</a></span></li></ul></li><li><span><a href=\"#Coloring-nodes-by-value\" data-toc-modified-id=\"Coloring-nodes-by-value-3.5.2\"><span class=\"toc-item-num\">3.5.2&nbsp;&nbsp;</span>Coloring nodes by value</a></span></li><li><span><a href=\"#Sizing-edges-by-value\" data-toc-modified-id=\"Sizing-edges-by-value-3.5.3\"><span class=\"toc-item-num\">3.5.3&nbsp;&nbsp;</span>Sizing edges by value</a></span></li><li><span><a href=\"#Degree-histogram\" data-toc-modified-id=\"Degree-histogram-3.5.4\"><span class=\"toc-item-num\">3.5.4&nbsp;&nbsp;</span>Degree histogram</a></span></li></ul></li></ul></li></ul></div>"
   ]
  },
  {
   "cell_type": "markdown",
   "metadata": {},
   "source": [
    "Let's get started! First, we need to import all of the packages we'll use to do our analysis."
   ]
  },
  {
   "cell_type": "code",
   "execution_count": null,
   "metadata": {},
   "outputs": [],
   "source": [
    "import pandas as pd               # For analyzing tabular data\n",
    "import numpy as np                # For working with arrays and numerical operations\n",
    "import networkx as nx             # For network data specifically\n",
    "from networkx.drawing.nx_agraph import graphviz_layout  # ...and graphing network data\n",
    "import matplotlib.pyplot as plt   # For making plots\n",
    "from pyvis import network as pv   # For making interactive plots\n",
    "import random                     # For generating random numbers\n",
    "\n",
    "%matplotlib inline     "
   ]
  },
  {
   "cell_type": "markdown",
   "metadata": {},
   "source": [
    "# Importing external data files"
   ]
  },
  {
   "cell_type": "markdown",
   "metadata": {},
   "source": [
    "We will be using a dataset from Adamic and Glance's (2005) paper: _The political blogosphere and the 2004 US election: Divided they blog._\n",
    "\n",
    "The paper built a dataset of political blogs as follows:\n",
    "- They compiled a list of important blogs from blog curation sites (e.g. BlogCatalog).\n",
    "- They crawled the front pages of these blogs and got all other linked blogs on these pages.\n",
    "- If the other blog had at least 17 citations in the dataset, they kept it and got its links.\n",
    "- They labeled the political orientation of the blogs using the blog curation sites and their own inspections.\n",
    "    \n",
    "    \n",
    "The final dataset had:\n",
    "\n",
    "- 759 liberal blogs\n",
    "- 735 conservative blogs\n",
    "\n",
    "Key findings from this analysis:\n",
    "\n",
    "> \"91% of  links originating within either the conservative or liberal communities stay within that community...Conservative blogs show a greater tendency to link.\""
   ]
  },
  {
   "cell_type": "markdown",
   "metadata": {},
   "source": [
    "Reference: https://networkx.github.io/documentation/stable/reference/readwrite/index.html"
   ]
  },
  {
   "cell_type": "markdown",
   "metadata": {},
   "source": [
    "First, let's practice importing files from external data sources. There are many different formats for disseminating network data, but some helpful ones supported by NetworkX include:\n",
    "```python\n",
    "nx.read_gml(filepath)                        # GML\n",
    "\n",
    "nx.read_edgelist(filepath, delimiter=',')    # A delimited edgelist\n",
    "\n",
    "nx.from_pandas_edgelist(df)                  # Pandas dataframe in edge list format\n",
    "nx.from_pandas_adjacency(df)                 # Pandas dataframe in adjacency matrix format\n",
    "```"
   ]
  },
  {
   "cell_type": "markdown",
   "metadata": {},
   "source": [
    "We'll get started with the dataset of blog links.\n",
    "<div class=\"alert alert-warning\"><b>Note:</b> Because some edges are duplicated, we had to modify the original file by adding a line to indicate that it is a multigraph. So, the dataset on this server is not perfectly identical to the original. </div>"
   ]
  },
  {
   "cell_type": "code",
   "execution_count": null,
   "metadata": {},
   "outputs": [],
   "source": [
    "# Let's use NetworkX's read_gml to bring in the raw data file\n",
    "G = nx.read_gml(\"data/polblogs.gml\")\n",
    "G"
   ]
  },
  {
   "cell_type": "code",
   "execution_count": null,
   "metadata": {},
   "outputs": [],
   "source": [
    "# As discussed, note that the graph above is a multigraph\n",
    "# Let's now convert it from a multigraph to a directed graph\n",
    "P = nx.DiGraph(G)"
   ]
  },
  {
   "cell_type": "code",
   "execution_count": null,
   "metadata": {},
   "outputs": [],
   "source": [
    "# And, we inspect\n",
    "print(nx.info(P))"
   ]
  },
  {
   "cell_type": "markdown",
   "metadata": {},
   "source": [
    "The dataset does not seem to be a perfect match for the paper. For example, we have 1940 links while they had 1494. But, it's close. We can also confirm that our degree counts roughly match those reported for Daily Kos (338), Eschelon (264), and Instapundit (277)."
   ]
  },
  {
   "cell_type": "code",
   "execution_count": null,
   "metadata": {},
   "outputs": [],
   "source": [
    "# Code to get all blog names containing a given keyword: [i for i in list(P.nodes) if 'instapundit' in i]\n",
    "\n",
    "# Let's check if individual blog degrees match:\n",
    "P.in_degree(['dailykos.com', 'atrios.blogspot.com', 'instapundit.com'])"
   ]
  },
  {
   "cell_type": "markdown",
   "metadata": {},
   "source": [
    "# Downsampling graphs"
   ]
  },
  {
   "cell_type": "markdown",
   "metadata": {},
   "source": [
    "We can see that the graph is (relatively) large and pretty well-connected: 1490 nodes and 19,025 edges. This is not actually \"large\" by network standards (Facebook has 1.7 billion users) but on my computer the plots are still running slow.\n",
    "\n",
    "Since we will be making _many_ plots, and since it's generally helpful for large graphs, let's learn to downsample. I will demonstrate two different approaches."
   ]
  },
  {
   "cell_type": "markdown",
   "metadata": {},
   "source": [
    "## Snowball sample"
   ]
  },
  {
   "cell_type": "markdown",
   "metadata": {},
   "source": [
    "One common method for sampling graphs is _snowball sampling_. The basic idea is as follows:\n",
    "\n",
    "1. Start with set of seed nodes.\n",
    "2. Add any friends of the seed nodes.\n",
    "2. Add any friends of the friends of the seed nodes.\n",
    "2. Add any friends of the friends of the (friends of the...) seed nodes."
   ]
  },
  {
   "cell_type": "code",
   "execution_count": null,
   "metadata": {
    "hideCode": true
   },
   "outputs": [],
   "source": [
    "source = \"matthewyglesias.com\"\n",
    "p = nx.single_source_shortest_path(P,source,cutoff=2)\n",
    "\n",
    "sample = list(p.keys())\n",
    "Q = P.subgraph(sample)\n",
    "\n",
    "T1 = nx.bfs_tree(Q, source = 'thewashingtonnote.com', depth_limit=1 )\n",
    "T2 = nx.bfs_tree(Q, source = 'thewashingtonnote.com', depth_limit=2 )\n",
    "T3 = nx.bfs_tree(Q, source = 'thewashingtonnote.com', depth_limit=3 )\n",
    "\n",
    "pos = nx.kamada_kawai_layout(Q)\n",
    "\n",
    "nx.draw(Q, pos=pos, arrows=False, edge_color='grey', width=0.5, node_color='grey')\n",
    "\n",
    "nx.draw_networkx_nodes(Q, pos=pos, nodelist = T3.nodes, node_color='yellow')\n",
    "nx.draw_networkx_edges(Q, pos=pos, edgelist = T3.edges, edge_color='orange', width=2)\n",
    "nx.draw_networkx_nodes(Q, pos=pos, nodelist = T2.nodes, node_color='orange')\n",
    "nx.draw_networkx_edges(Q, pos=pos, edgelist = T2.edges, edge_color='red', width=2.2)\n",
    "nx.draw_networkx_nodes(Q, pos=pos, nodelist = T1.nodes, node_color='red')\n",
    "nx.draw_networkx_edges(Q, pos=pos, edgelist = T1.edges, edge_color='darkred', width=2)\n",
    "nx.draw_networkx_nodes(Q, pos=pos, nodelist = ['thewashingtonnote.com'], node_color='darkred')\n",
    "\n",
    "plt.show()"
   ]
  },
  {
   "cell_type": "markdown",
   "metadata": {},
   "source": [
    "We will use a few helper functions, including some from Python's `random` package:\n",
    "    \n",
    "```python\n",
    "nx.single_source_shortest_path(G, source, cutoff=n)  # Get all shortest paths from source node within distance n\n",
    "nx.bfs_tree(G, source, depth_limit=n )               # Conduct a breadth-first search of depth n\n",
    "\n",
    "S = G.subgraph(...)       # Select a subgraph\n",
    "\n",
    "random.seed(n)            # Set a \"seed\" for the random number generator. This ensures that your code is replicable.\n",
    "random.sample([...], n)   # Choose n items from a list of items\n",
    "```"
   ]
  },
  {
   "cell_type": "markdown",
   "metadata": {},
   "source": [
    "### Snowball sampling with single-source-shortest-paths"
   ]
  },
  {
   "cell_type": "markdown",
   "metadata": {},
   "source": [
    "Actually, last week we learned an algorithmic approach to implementing this with NetworkX. Remember that we had a function, `single_source_shortest_path`, that would give a list of all shortest paths from a source node. Well, that function takes an optional argument, `cutoff`, that limits the maximum length of the shortest paths returned.\n",
    "\n",
    "This can help us find our sample: we start from our source node, and then walk away in all directions until we hit the cutoff."
   ]
  },
  {
   "cell_type": "markdown",
   "metadata": {},
   "source": [
    "Let's try this for the blogger Matt Yglesias."
   ]
  },
  {
   "cell_type": "code",
   "execution_count": null,
   "metadata": {},
   "outputs": [],
   "source": [
    "# Let's make him the path\n",
    "source = \"matthewyglesias.com\"\n",
    "\n",
    "# Let's find what other nodes can be reached in two steps or less\n",
    "paths = nx.single_source_shortest_path(P,source,cutoff=2)\n",
    "\n",
    "# Our sample will be all of these nodes\n",
    "sample = list(paths.keys())\n",
    "len(sample)"
   ]
  },
  {
   "cell_type": "code",
   "execution_count": null,
   "metadata": {},
   "outputs": [],
   "source": [
    "# Let's take the subgraph of P containing this sample\n",
    "S = P.subgraph(sample)\n",
    "nx.draw(S)"
   ]
  },
  {
   "cell_type": "markdown",
   "metadata": {},
   "source": [
    "### Snowball sampling with breadth-first search"
   ]
  },
  {
   "cell_type": "markdown",
   "metadata": {},
   "source": [
    "Note that this is equivalent to a breadth-first tree search on the graph."
   ]
  },
  {
   "cell_type": "code",
   "execution_count": null,
   "metadata": {},
   "outputs": [],
   "source": [
    "# Let's do a BFS from the source with a depth of 2\n",
    "sample = nx.bfs_tree(Q, source, depth_limit=2 )\n",
    "\n",
    "# Let's collect the subgraph\n",
    "S = P.subgraph(sample)\n",
    "\n",
    "# Let's confirm that it's the same size\n",
    "len(sample)"
   ]
  },
  {
   "cell_type": "markdown",
   "metadata": {},
   "source": [
    "## Node and edge samples"
   ]
  },
  {
   "cell_type": "markdown",
   "metadata": {},
   "source": [
    "Let's try another strategy, just for fun.\n",
    "\n",
    "1. We will first randomly sample 500 nodes from the graph (reduce the number of nodes).\n",
    "2. Then, we will randomly sample 500 edges from these nodes (reduce the number of edges).\n",
    "3. Finally, we will keep only the largest connected component (reduce the number of small isolated components).\n",
    "\n"
   ]
  },
  {
   "cell_type": "code",
   "execution_count": null,
   "metadata": {},
   "outputs": [],
   "source": [
    "# Set the seed for a random number\n",
    "random.seed(1)"
   ]
  },
  {
   "cell_type": "code",
   "execution_count": null,
   "metadata": {},
   "outputs": [],
   "source": [
    "# Step 1 --------------------------------------------------\n",
    "\n",
    "# Choose a random sample of p's nodes \n",
    "random_nodes = random.sample(P.nodes, 500)\n",
    "\n",
    "# Get the subgraph containing of P these nodes\n",
    "R = P.subgraph(random_nodes)\n",
    "\n",
    "print(nx.info(R))"
   ]
  },
  {
   "cell_type": "code",
   "execution_count": null,
   "metadata": {},
   "outputs": [],
   "source": [
    "# Step 2 --------------------------------------------------\n",
    "\n",
    "# Choose a random sample of p's edges \n",
    "random_edges = random.sample(R.edges, 500)\n",
    "\n",
    "# Get the subgraph containing of P these edges\n",
    "R = P.edge_subgraph(random_edges)"
   ]
  },
  {
   "cell_type": "code",
   "execution_count": null,
   "metadata": {},
   "outputs": [],
   "source": [
    "# Step 3 --------------------------------------------------\n",
    "\n",
    "# Get the biggest connected component\n",
    "R = max(nx.strongly_connected_component_subgraphs(R), key=len)\n",
    "\n",
    "nx.draw(R)"
   ]
  },
  {
   "cell_type": "markdown",
   "metadata": {},
   "source": [
    "# Plotting"
   ]
  },
  {
   "cell_type": "markdown",
   "metadata": {},
   "source": [
    "<div class=\"alert alert-success\">\n",
    "<b> Exercise: </b>Now, it's time to see what we've got! Before we start, let's practice drawing a graph of our own. Try plotting the following adjacency matrix:  "
   ]
  },
  {
   "cell_type": "code",
   "execution_count": null,
   "metadata": {
    "hideCode": true,
    "hidePrompt": false
   },
   "outputs": [],
   "source": [
    "# Import an example graph that I made\n",
    "df = pd.read_csv('data/sample_graph.csv', index_col=\"Unnamed: 0\").astype(int)\n",
    "df"
   ]
  },
  {
   "cell_type": "markdown",
   "metadata": {},
   "source": [
    "## Graph Layouts"
   ]
  },
  {
   "cell_type": "markdown",
   "metadata": {},
   "source": [
    "Reference: https://networkx.github.io/documentation/stable/reference/drawing.html#module-networkx.drawing.layout"
   ]
  },
  {
   "cell_type": "markdown",
   "metadata": {},
   "source": [
    "A basic challenge for plotting networks is how to lay out the nodes and edges.\n",
    "\n",
    "- One option is to use a **fixed layout** design, such as circular layouts (which put all nodes in a circle) or geographic layouts (which put nodes at their geographic location on a map).\n",
    "\n",
    "\n",
    "- An alternative is to use an **algorithm** to determine the layout of nodes. Common classes of algorithms are:   \n",
    "\n",
    " - **Force-directed layouts:** These algorithms generally balance two forces: a baseline repulsion between all nodes, and a countervailing attraction between connected nodes.\n",
    " - **Spectral layouts:** These algorithms perform dimensionality reduction to divide the graph into different clusters.\n",
    "\n",
    "You might have to experiment a bit to get the layout you want. Let's try it!"
   ]
  },
  {
   "cell_type": "markdown",
   "metadata": {},
   "source": [
    "### Default (spring) layout"
   ]
  },
  {
   "cell_type": "code",
   "execution_count": null,
   "metadata": {},
   "outputs": [],
   "source": [
    "# We start with the default graph. \n",
    "nx.draw(S)"
   ]
  },
  {
   "cell_type": "markdown",
   "metadata": {},
   "source": [
    "### Random layout"
   ]
  },
  {
   "cell_type": "code",
   "execution_count": null,
   "metadata": {},
   "outputs": [],
   "source": [
    "# Actually, it's not bad! If we drew it with a random layout, it would look worse...\n",
    "nx.draw_random(S)"
   ]
  },
  {
   "cell_type": "markdown",
   "metadata": {},
   "source": [
    "### Kamada-Kawai (force-directed) layout"
   ]
  },
  {
   "cell_type": "code",
   "execution_count": null,
   "metadata": {},
   "outputs": [],
   "source": [
    "# Maybe there are some other alternatives?\n",
    "nx.draw_kamada_kawai(S)"
   ]
  },
  {
   "cell_type": "markdown",
   "metadata": {},
   "source": [
    "### Layouts overview"
   ]
  },
  {
   "cell_type": "code",
   "execution_count": null,
   "metadata": {
    "hideCode": true,
    "hidePrompt": false
   },
   "outputs": [],
   "source": [
    "# Here I'll just plot a short summary\n",
    "fig, ax = plt.subplots(2,3, figsize=[15,10])\n",
    "\n",
    "ax1,ax2,ax3,ax4,ax5,ax6 = ax[0][0],ax[0][1],ax[0][2],ax[1][0],ax[1][1],ax[1][2]\n",
    "nx.draw(             S, ax = ax[0][0])\n",
    "nx.draw_spring(      S, ax = ax[0][1])\n",
    "nx.draw_kamada_kawai(S, ax = ax[0][2])\n",
    "nx.draw_random(      S, ax = ax[1][0])\n",
    "nx.draw_circular(    S, ax = ax[1][1])\n",
    "nx.draw_spectral(    S, ax = ax[1][2])\n",
    "\n",
    "ax[0][0].set_title(\"draw\")\n",
    "ax[0][1].set_title(\"draw_spring\")\n",
    "ax[0][2].set_title(\"draw_kamada_kawai\")\n",
    "ax[1][0].set_title(\"draw_random\")\n",
    "ax[1][1].set_title(\"draw_circular\")\n",
    "ax[1][2].set_title(\"draw_spectral\")\n",
    "\n",
    "plt.show()"
   ]
  },
  {
   "cell_type": "markdown",
   "metadata": {},
   "source": [
    "### Tuning graph layouts"
   ]
  },
  {
   "cell_type": "markdown",
   "metadata": {},
   "source": [
    "We can also tweak individual algorithms. Before we start with that, though, we need to understand a little bit about NetworkX.\n",
    "\n",
    "- Above, we have seen NetworkX's `draw` commands that directly incorporate the desired layout, e.g. `draw_spring`.\n",
    "\n",
    "- However, we can also plot graphs with a given layout in two steps:\n",
    "  1. Request the layout positions.\n",
    "  2. Pass the layout positions to the `draw` command.\n",
    "  \n",
    "To tweak the positions, you'll need to read the documentation to see what parameters are available to you. For example, let's look into the [spring_layout](https://networkx.github.io/documentation/stable/reference/generated/networkx.drawing.layout.spring_layout.html)."
   ]
  },
  {
   "cell_type": "code",
   "execution_count": null,
   "metadata": {},
   "outputs": [],
   "source": [
    "# To tweak the layout, we'll need to work in two steps\n",
    "pos = nx.spring_layout(S)        # First, we run the algorithm to get the positions\n",
    "nx.draw(S, pos=pos)              # Next, we plot the graph using those positions"
   ]
  },
  {
   "cell_type": "code",
   "execution_count": null,
   "metadata": {},
   "outputs": [],
   "source": [
    "# For example, we can scale it down in size ...\n",
    "pos = nx.spring_layout(S, scale=0.01)\n",
    "nx.draw(S, pos=pos)    "
   ]
  },
  {
   "cell_type": "code",
   "execution_count": null,
   "metadata": {},
   "outputs": [],
   "source": [
    "# ... we can push nodes apart ...\n",
    "pos = nx.spring_layout(S, k=5)\n",
    "nx.draw(S, pos=pos)    "
   ]
  },
  {
   "cell_type": "code",
   "execution_count": null,
   "metadata": {},
   "outputs": [],
   "source": [
    "# ...or pull them together\n",
    "pos = nx.spring_layout(S, k=0.01)\n",
    "nx.draw(S, pos=pos)    "
   ]
  },
  {
   "cell_type": "markdown",
   "metadata": {},
   "source": [
    "## Styling the plot aesthetic"
   ]
  },
  {
   "cell_type": "markdown",
   "metadata": {},
   "source": [
    "For now, let's stick with the default Kamada-Kawai layout. We will set this one time and then use it subsequently below."
   ]
  },
  {
   "cell_type": "code",
   "execution_count": null,
   "metadata": {},
   "outputs": [],
   "source": [
    "# Set the positions for the rest of this section\n",
    "pos = nx.kamada_kawai_layout(S)"
   ]
  },
  {
   "cell_type": "markdown",
   "metadata": {},
   "source": [
    "### Plotting the default"
   ]
  },
  {
   "cell_type": "markdown",
   "metadata": {},
   "source": [
    "Below, we can see the default plot that we've grown used to generating. But now, it takes the `pos` argument which determines the node positions.\n",
    "\n",
    "We can pass other arguments to the command to change other aspects of the graph styling:"
   ]
  },
  {
   "cell_type": "code",
   "execution_count": null,
   "metadata": {},
   "outputs": [],
   "source": [
    "# Draw the default\n",
    "nx.draw(S, pos=pos)"
   ]
  },
  {
   "cell_type": "markdown",
   "metadata": {},
   "source": [
    "### Change sizes of nodes, edges, or arrows"
   ]
  },
  {
   "cell_type": "code",
   "execution_count": null,
   "metadata": {},
   "outputs": [],
   "source": [
    "nx.draw(S, pos=pos,\n",
    "        node_size=200,       # Change size of node\n",
    "        width=0.5,           # Change width of edge\n",
    "        arrowsize=20         # Change size of arrow\n",
    "       )"
   ]
  },
  {
   "cell_type": "markdown",
   "metadata": {},
   "source": [
    "### Change colors of nodes or edges"
   ]
  },
  {
   "cell_type": "markdown",
   "metadata": {},
   "source": [
    "\n",
    "\n",
    "\n",
    "<img src=\"https://matplotlib.org/2.0.0/_images/named_colors.png\" style=\"width: 500px;\"/>"
   ]
  },
  {
   "cell_type": "code",
   "execution_count": null,
   "metadata": {},
   "outputs": [],
   "source": [
    "nx.draw(S,  pos=pos,\n",
    "        node_size=200, \n",
    "        width=0.5,\n",
    "        arrowsize=20,\n",
    "# -----------------------\n",
    "        node_color=\"darkseagreen\",\n",
    "        edge_color='seagreen'\n",
    "       )"
   ]
  },
  {
   "cell_type": "markdown",
   "metadata": {},
   "source": [
    "### Change styling of nodes or arrows"
   ]
  },
  {
   "cell_type": "markdown",
   "metadata": {},
   "source": [
    "<img src=\"https://matplotlib.org/_images/fancyarrow_demo2.png\" style=\"width: 300px;\"/>\n",
    "<img src=\"https://matplotlib.org/_images/sphx_glr_marker_reference_002.png\" style=\"width: 500px;\"/>"
   ]
  },
  {
   "cell_type": "code",
   "execution_count": null,
   "metadata": {},
   "outputs": [],
   "source": [
    "nx.draw(S, pos=pos,\n",
    "        node_size=200, \n",
    "        width=0.5,\n",
    "        arrowsize=20,\n",
    "        node_color=\"darkseagreen\",\n",
    "        edge_color='seagreen',\n",
    "# -----------------------\n",
    "        node_shape='p', \n",
    "        arrowstyle='->'\n",
    "       )"
   ]
  },
  {
   "cell_type": "markdown",
   "metadata": {},
   "source": [
    "### Turn plot features on and off"
   ]
  },
  {
   "cell_type": "code",
   "execution_count": null,
   "metadata": {},
   "outputs": [],
   "source": [
    "nx.draw(S, pos=pos,\n",
    "        node_size=200, \n",
    "        width=0.5,\n",
    "        node_color=\"darkseagreen\",\n",
    "        edge_color='seagreen',\n",
    "        node_shape='s', \n",
    "# -----------------------\n",
    "        arrows=False,          # Control whether arrow is shown\n",
    "        with_labels=True       # Control whether plot is labeled\n",
    "       )"
   ]
  },
  {
   "cell_type": "markdown",
   "metadata": {},
   "source": [
    "### Adding text"
   ]
  },
  {
   "cell_type": "code",
   "execution_count": null,
   "metadata": {},
   "outputs": [],
   "source": [
    "nx.draw(S, pos=pos,\n",
    "        node_size=200, \n",
    "        width=0.5,\n",
    "        node_color=\"darkseagreen\",\n",
    "        edge_color='seagreen',\n",
    "        node_shape='s', \n",
    "        arrows=False,\n",
    "        with_labels=True,\n",
    "# -----------------------\n",
    "        font_size=10,\n",
    "        font_color='darkslategrey',\n",
    "        font_weight='bold',\n",
    "        font_family='serif'\n",
    "       )\n"
   ]
  },
  {
   "cell_type": "markdown",
   "metadata": {},
   "source": [
    "## Drawing attention to selected features\n",
    "\n",
    "Now, we'll show how you can select and emphasize certain features. For example, you might want to tell a story about a given node.\n",
    "\n",
    "Essentially, the easiest way to do this is:\n",
    "\n",
    "1. Get the positions of the graph layout.\n",
    "2. Plot the underlying graph and nodes.\n",
    "3. Layer your styling on top."
   ]
  },
  {
   "cell_type": "code",
   "execution_count": null,
   "metadata": {},
   "outputs": [],
   "source": [
    "# Let's start with a simple baseline graph\n",
    "nx.draw(S, pos=pos,\n",
    "        node_size=300, \n",
    "        node_color=\"seagreen\",\n",
    "        edge_color='darkseagreen',\n",
    "        arrowstyle='->',\n",
    "        arrowsize=15\n",
    "       )"
   ]
  },
  {
   "cell_type": "markdown",
   "metadata": {},
   "source": [
    "### Drawing selected nodes"
   ]
  },
  {
   "cell_type": "code",
   "execution_count": null,
   "metadata": {},
   "outputs": [],
   "source": [
    "# Let's plot the underlying graph\n",
    "nx.draw(S, pos=pos,\n",
    "        node_size=300, \n",
    "        node_color=\"seagreen\",\n",
    "        edge_color='darkseagreen',\n",
    "        arrowstyle='->',\n",
    "        arrowsize=15\n",
    "       )\n",
    "\n",
    "# ------------------------------------------------------\n",
    "# We can choose a list of nodes we want to emphasize (in this case, one of Matt Yglesias' pages)\n",
    "selected_nodes = ['yglesias.typepad.com/matthew']\n",
    "\n",
    "# Let's resize and recolor the node(s) of interest\n",
    "nx.draw_networkx_nodes(S, pos=pos,\n",
    "                      nodelist=selected_nodes,         # List of nodes to alter with new styling\n",
    "                      node_color = 'palevioletred',\n",
    "                      node_size=1000)"
   ]
  },
  {
   "cell_type": "markdown",
   "metadata": {},
   "source": [
    "### Drawing selected node labels"
   ]
  },
  {
   "cell_type": "code",
   "execution_count": null,
   "metadata": {},
   "outputs": [],
   "source": [
    "# Let's plot the underlying graph\n",
    "nx.draw(S, pos=pos,\n",
    "        node_size=300, \n",
    "        node_color=\"seagreen\",\n",
    "        edge_color='darkseagreen',\n",
    "        arrowstyle='->',\n",
    "        arrowsize=15\n",
    "       )\n",
    "\n",
    "# We can choose a list of nodes we want to emphasize (in this case, one of Matt Yglesias' pages)\n",
    "selected_nodes = ['yglesias.typepad.com/matthew']\n",
    "\n",
    "# Let's resize and recolor the node(s) of interest\n",
    "nx.draw_networkx_nodes(S, pos=pos,\n",
    "                      nodelist=selected_nodes,         # List of nodes to alter with new styling\n",
    "                      node_color = 'palevioletred',\n",
    "                      node_size=1000)\n",
    "# ------------------------------------------------------\n",
    "\n",
    "# We can create a dictionary of nodes to label, and the labels we want\n",
    "selected_labels = {'yglesias.typepad.com/matthew': \"matt\"}\n",
    "\n",
    "# Let's add these labels\n",
    "nx.draw_networkx_labels(S, pos=pos,\n",
    "                        labels=selected_labels,       # Dictionary of nodes to label\n",
    "                        font_size=12)\n",
    "\n",
    "plt.show()"
   ]
  },
  {
   "cell_type": "markdown",
   "metadata": {},
   "source": [
    "### Drawing selected edges"
   ]
  },
  {
   "cell_type": "code",
   "execution_count": null,
   "metadata": {},
   "outputs": [],
   "source": [
    "# Let's plot the underlying graph\n",
    "nx.draw(S, pos=pos,\n",
    "        node_size=300, \n",
    "        node_color=\"seagreen\",\n",
    "        edge_color='darkseagreen',\n",
    "        arrowstyle='->',\n",
    "        arrowsize=15\n",
    "       )\n",
    "\n",
    "# We can choose a list of nodes we want to emphasize (in this case, one of Matt Yglesias' pages)\n",
    "selected_nodes = ['yglesias.typepad.com/matthew']\n",
    "\n",
    "# Let's resize and recolor the node(s) of interest\n",
    "nx.draw_networkx_nodes(S, pos=pos,\n",
    "                      nodelist=selected_nodes,         # List of nodes to alter with new styling\n",
    "                      node_color = 'palevioletred',\n",
    "                      node_size=1000)\n",
    "\n",
    "# We can create a dictionary of nodes to label, and the labels we want\n",
    "selected_labels = {'yglesias.typepad.com/matthew': \"matt\"}\n",
    "\n",
    "# Let's add these labels\n",
    "nx.draw_networkx_labels(S, pos=pos,\n",
    "                        labels=selected_labels,       # Dictionary of nodes to label\n",
    "                        font_size=12)\n",
    "\n",
    "\n",
    "# ------------------------------------------------------\n",
    "# We can create a list of edges we want to plot <- in this case, all of Matt's\n",
    "selected_edges = list(S.edges(['yglesias.typepad.com/matthew']))\n",
    "\n",
    "# We can plot only these edges\n",
    "nx.draw_networkx_edges(S, pos=pos,\n",
    "                      edgelist=selected_edges,        # List of edges to restyle\n",
    "                      edge_color = 'palevioletred',\n",
    "                      width=2)\n",
    "\n",
    "plt.show()"
   ]
  },
  {
   "cell_type": "markdown",
   "metadata": {},
   "source": [
    "### Drawing selected edge labels"
   ]
  },
  {
   "cell_type": "code",
   "execution_count": null,
   "metadata": {},
   "outputs": [],
   "source": [
    "# Let's plot the underlying graph\n",
    "nx.draw(S, pos=pos,\n",
    "        node_size=300, \n",
    "        node_color=\"seagreen\",\n",
    "        edge_color='darkseagreen',\n",
    "        arrowstyle='->',\n",
    "        arrowsize=15\n",
    "       )\n",
    "\n",
    "# We can choose a list of nodes we want to emphasize (in this case, one of Matt Yglesias' pages)\n",
    "selected_nodes = ['yglesias.typepad.com/matthew']\n",
    "\n",
    "# Let's resize and recolor the node(s) of interest\n",
    "nx.draw_networkx_nodes(S, pos=pos,\n",
    "                      nodelist=selected_nodes,         # List of nodes to alter with new styling\n",
    "                      node_color = 'palevioletred',\n",
    "                      node_size=1000)\n",
    "\n",
    "# We can create a dictionary of nodes to label, and the labels we want\n",
    "selected_labels = {'yglesias.typepad.com/matthew': \"matt\"}\n",
    "\n",
    "# Let's add these labels\n",
    "nx.draw_networkx_labels(S, pos=pos,\n",
    "                        labels=selected_labels,       # Dictionary of nodes to label\n",
    "                        font_size=12)\n",
    "\n",
    "\n",
    "# We can create a list of edges we want to plot <- in this case, all of Matt's\n",
    "selected_edges = list(S.edges(['yglesias.typepad.com/matthew']))\n",
    "\n",
    "# We can plot only these edges\n",
    "nx.draw_networkx_edges(S, pos=pos,\n",
    "                      edgelist=selected_edges,        # List of edges to restyle\n",
    "                      edge_color = 'palevioletred',\n",
    "                      width=2)\n",
    "\n",
    "# ------------------------------------------------------\n",
    "# We can create a dictionary of edges we want to label, and their labels\n",
    "selected_edge_labels = {(\"pandagon.net\", \"prospect.org/weblog\"): \"mutual\"}\n",
    "\n",
    "nx.draw_networkx_edge_labels(S, pos=pos,\n",
    "                              edge_labels = selected_edge_labels) # Dictionary of edges to label\n",
    "\n",
    "plt.show()"
   ]
  },
  {
   "cell_type": "markdown",
   "metadata": {},
   "source": [
    "## Illustrating discrete attributes"
   ]
  },
  {
   "cell_type": "markdown",
   "metadata": {},
   "source": [
    "Of course, we might want to systematically render attributes of our graph. \n",
    "For example, in our dataset, there is an attribute called \"value\", which is set to 0 if the blog is liberal and 1 if it is conservative.\n",
    "\n",
    "Let's drop Matt's blog network and switch back to the sample we previously made, R."
   ]
  },
  {
   "cell_type": "code",
   "execution_count": null,
   "metadata": {},
   "outputs": [],
   "source": [
    "# We'll plot R with the default Kamada Kawai layout\n",
    "pos = nx.kamada_kawai_layout(R)\n",
    "nx.draw(R, pos=pos)"
   ]
  },
  {
   "cell_type": "markdown",
   "metadata": {},
   "source": [
    "<div class=\"alert alert-success\">\n",
    "<b> Exercise: </b>\n",
    "    Let's tidy up the graph a bit. How would you...   \n",
    "    \n",
    "- make the size of the nodes to be 100\n",
    "- make the color of the edges to be grey\n",
    "- make the style of arrows to be a \"v\" instead of a triangle?"
   ]
  },
  {
   "cell_type": "markdown",
   "metadata": {},
   "source": [
    "**Answer**:\n",
    "<span style='color:white'>\n",
    "pos = nx.kamada_kawai_layout(R)\n",
    "nx.draw(R, pos=pos, \n",
    "        node_size=100,\n",
    "        edge_color='gray',\n",
    "        arrowstyle=\"->\")"
   ]
  },
  {
   "cell_type": "markdown",
   "metadata": {},
   "source": [
    "### Coloring nodes by label\n",
    "\n",
    "Let's highlight groups of nodes by changing the label color."
   ]
  },
  {
   "cell_type": "code",
   "execution_count": null,
   "metadata": {
    "scrolled": true
   },
   "outputs": [],
   "source": [
    "# We can see that each node has an attribute caleld \"value\" with political affiliation\n",
    "# It also has information about the source of the blog\n",
    "R.nodes.data()"
   ]
  },
  {
   "cell_type": "code",
   "execution_count": null,
   "metadata": {},
   "outputs": [],
   "source": [
    "# Let's extract political affiliation as a dictionary\n",
    "political_affil = nx.get_node_attributes(R, 'value')\n",
    "political_affil"
   ]
  },
  {
   "cell_type": "code",
   "execution_count": null,
   "metadata": {},
   "outputs": [],
   "source": [
    "# Let's make a list of node_ids and an empty list of node colors\n",
    "node_ids = list(R.nodes)\n",
    "node_colors = []\n",
    "\n",
    "# Now, for each node, get its affiliation\n",
    "for n in node_ids:                    \n",
    "    if political_affil[n] == 0:       # 0 = liberal, let's color it blue\n",
    "        node_colors.append(\"blue\")\n",
    "    elif political_affil[n] == 1:     # 1 = conservative, let's color it red\n",
    "        node_colors.append(\"red\")\n",
    "\n",
    "# Let's inspect\n",
    "print(node_ids[:10])\n",
    "print(node_colors[:10])"
   ]
  },
  {
   "cell_type": "code",
   "execution_count": null,
   "metadata": {
    "hideCode": false
   },
   "outputs": [],
   "source": [
    "# There is a one-line alternative: \n",
    "# node_colors = [\"blue\" if political_affil[n]==0 else \"red\" for n in node_ids]"
   ]
  },
  {
   "cell_type": "code",
   "execution_count": null,
   "metadata": {},
   "outputs": [],
   "source": [
    "nx.draw(R, pos=pos, \n",
    "        node_size=100,\n",
    "        edge_color='gray',\n",
    "        arrowstyle=\"->\", fontsize=7, \n",
    "        # -------------------------\n",
    "        nodelist = node_ids,      # Now we just supply the ids\n",
    "        node_color = node_colors  # And the list of colors corresponding to them\n",
    "       )"
   ]
  },
  {
   "cell_type": "markdown",
   "metadata": {},
   "source": [
    "### Coloring edges by node label"
   ]
  },
  {
   "cell_type": "markdown",
   "metadata": {},
   "source": [
    "Now, let's try to replicate Adamic and Glance's classic figure on our graph subset. We want to use the same intuition: make a list of edges, and then color the edges.\n",
    "<img src=\"figures/adamic_fig1.PNG\" style=\"width: 500px;\"/>"
   ]
  },
  {
   "cell_type": "code",
   "execution_count": null,
   "metadata": {},
   "outputs": [],
   "source": [
    "# Let's make a list of edge_ids and an empty list of edge colors\n",
    "edge_ids = list(R.edges)\n",
    "edge_colors = []\n",
    "\n",
    "for e in edge_ids:\n",
    "    \n",
    "    n1,n2 = e\n",
    "\n",
    "    # Liberal links to liberal\n",
    "    if political_affil[n1] == 0 and political_affil[n2] == 0:\n",
    "        edge_colors.append(\"steelblue\")\n",
    "    \n",
    "    # Conservative links to conservative\n",
    "    elif political_affil[n1] == 1 and political_affil[n2] == 1:\n",
    "        edge_colors.append(\"lightcoral\")\n",
    "   \n",
    "    # Links across parties\n",
    "    elif political_affil[n1] != political_affil[n2]:\n",
    "        edge_colors.append(\"orange\")"
   ]
  },
  {
   "cell_type": "code",
   "execution_count": null,
   "metadata": {},
   "outputs": [],
   "source": [
    "nx.draw(R, pos=pos, \n",
    "        node_size=100,\n",
    "        arrowstyle=\"->\", fontsize=7, \n",
    "        nodelist = node_ids,\n",
    "        node_color = node_colors,\n",
    "        # -------------------------\n",
    "        edgelist = edge_ids,          # Now we just supply the edge ids\n",
    "        edge_color = edge_colors      # and the list of colors corresponding to them\n",
    "       )"
   ]
  },
  {
   "cell_type": "markdown",
   "metadata": {},
   "source": [
    "<div class=\"alert alert-success\">\n",
    "<b> Exercise: </b>\n",
    "   We almost replicated the graph, but not exactly. We use orange links to represent any cross-party ties, but in Adamic and Glance, the orange links only go from liberal to conservative. They use purple links to indicate the opposite direction. How would we modify the code to match their coloring scheme?"
   ]
  },
  {
   "cell_type": "markdown",
   "metadata": {},
   "source": [
    "**Answer**: \n",
    "<span style=\"color:white\">\n",
    "edge_ids = list(R.edges) # Let's make a list of edge_ids and an empty list of edge colors\n",
    "edge_colors = []\n",
    "for e in edge_ids:\n",
    "    n1,n2 = e\n",
    "    if political_affil[n1] == 0 and political_affil[n2] == 0:\n",
    "        edge_colors.append(\"steelblue\")     # Liberal links to liberal\n",
    "    elif political_affil[n1] == 1 and political_affil[n2] == 1:\n",
    "        edge_colors.append(\"lightcoral\")    # Conservative links to conservative\n",
    "    elif political_affil[n1] == 0 and political_affil[n2] == 1:\n",
    "        edge_colors.append(\"orange\")        # Liberal to conservative\n",
    "    elif political_affil[n1] == 1 and political_affil[n2] == 0:\n",
    "        edge_colors.append(\"purple\")        # Conservative to liberal\n",
    "nx.draw(R, pos=pos, \n",
    "        node_size=100,\n",
    "        arrowstyle=\"->\", fontsize=7, \n",
    "        nodelist = node_ids,\n",
    "        node_color = node_colors,\n",
    "        edgelist = edge_ids,          # Now we just supply the edge ids\n",
    "        edge_color = edge_colors      # and the list of colors corresponding to them\n",
    "       )"
   ]
  },
  {
   "cell_type": "markdown",
   "metadata": {},
   "source": [
    "## Illustrating continuous attributes"
   ]
  },
  {
   "cell_type": "markdown",
   "metadata": {},
   "source": [
    "We can also use size to inform us about relevant quantities in the graph. For example, we might want to make important nodes larger, or plot the weights on edges."
   ]
  },
  {
   "cell_type": "markdown",
   "metadata": {},
   "source": [
    "### Sizing nodes by value"
   ]
  },
  {
   "cell_type": "markdown",
   "metadata": {},
   "source": [
    "<div class=\"alert alert-warning\">\n",
    "<i> Note: </i>\n",
    "When sizing nodes by value, it sometimes helps to scale the value in order to draw a more dramatic contrast. We can do this by multiplying the raw value or exponentiating. You can experiment with the scaling constants until you get the appearance you want."
   ]
  },
  {
   "cell_type": "markdown",
   "metadata": {},
   "source": [
    "#### Degree"
   ]
  },
  {
   "cell_type": "code",
   "execution_count": null,
   "metadata": {},
   "outputs": [],
   "source": [
    "# Let's make a list of node_ids and an empty list of node sizes\n",
    "node_ids = list(R.nodes)\n",
    "node_sizes = []\n",
    "\n",
    "# Add the scaled degrees for each node\n",
    "for n in node_ids:\n",
    "    node_sizes.append((2*R.degree(n))**1.75)   # Experiment with scaling here"
   ]
  },
  {
   "cell_type": "code",
   "execution_count": null,
   "metadata": {},
   "outputs": [],
   "source": [
    "# Plot\n",
    "nx.draw(R, pos=pos, \n",
    "        node_size=node_sizes,                  # Supply a list of node sizes\n",
    "        arrowstyle=\"->\", \n",
    "        fontsize=7, \n",
    "        node_color = node_colors,\n",
    "        edgelist = edge_ids,\n",
    "        edge_color = edge_colors,\n",
    "        nodelist = node_ids\n",
    "       )"
   ]
  },
  {
   "cell_type": "markdown",
   "metadata": {},
   "source": [
    "#### Pagerank"
   ]
  },
  {
   "cell_type": "markdown",
   "metadata": {},
   "source": [
    "We can use the same general formula for any calculated value. For example, we can size nodes by PageRank:"
   ]
  },
  {
   "cell_type": "code",
   "execution_count": null,
   "metadata": {},
   "outputs": [],
   "source": [
    "# Get a dictionary of page ranks\n",
    "pr = nx.pagerank(R)\n",
    "\n",
    "# Let's make a list of node_ids and an empty list of node sizes\n",
    "node_ids = list(R.nodes)\n",
    "node_sizes = []\n",
    "\n",
    "# Calculate the node sizes\n",
    "for n in node_ids:\n",
    "    node_sizes.append(4000*pr[n])              # Pagerank values are small (they sum to 1), so we scale aggressively"
   ]
  },
  {
   "cell_type": "code",
   "execution_count": null,
   "metadata": {},
   "outputs": [],
   "source": [
    "# Plot\n",
    "nx.draw(R, pos=pos, \n",
    "        node_size=node_sizes,                  # Supply a list of node sizes\n",
    "        arrowstyle=\"->\", \n",
    "        fontsize=7, \n",
    "        node_color = node_colors,\n",
    "        edgelist = edge_ids,\n",
    "        edge_color = edge_colors,\n",
    "        nodelist = node_ids\n",
    "       )"
   ]
  },
  {
   "cell_type": "markdown",
   "metadata": {},
   "source": [
    "### Coloring nodes by value"
   ]
  },
  {
   "cell_type": "markdown",
   "metadata": {},
   "source": [
    "\n",
    "<img src=\"https://matplotlib.org/1.2.1/_images/show_colormaps.png\" style=\"width: 300px;\"/>"
   ]
  },
  {
   "cell_type": "markdown",
   "metadata": {},
   "source": [
    "We might want to show multiple features. In that case, we can also use color as an informative dimension. Let's keep the node ids and node sizes from above, but add a color dimension that captures in-degree:"
   ]
  },
  {
   "cell_type": "code",
   "execution_count": null,
   "metadata": {},
   "outputs": [],
   "source": [
    "# Initialize a list to store the variable associated with the color\n",
    "node_color_values = []\n",
    "\n",
    "# Add the (numeric) values to the list\n",
    "for n in node_ids:\n",
    "    node_color_values.append(R.in_degree(n))"
   ]
  },
  {
   "cell_type": "code",
   "execution_count": null,
   "metadata": {},
   "outputs": [],
   "source": [
    "nx.draw(R, pos=pos, \n",
    "        node_size=node_sizes,\n",
    "        arrowstyle=\"->\", \n",
    "        fontsize=7, \n",
    "        node_color = node_color_values,   # Supply the (numeric) data for the color variable\n",
    "        cmap = plt.get_cmap('viridis'),   # Map the numeric data to a color scheme\n",
    "        edgelist = edge_ids,\n",
    "        edge_color = 'lightgrey',\n",
    "        nodelist = node_ids,\n",
    "        arrows=False\n",
    "       )"
   ]
  },
  {
   "cell_type": "markdown",
   "metadata": {},
   "source": [
    "<div class=\"alert alert-warning\">\n",
    "<i> Note: </i> We can see that in-degree does not perfectly correspond with PageRank. The nodes with the highest in degree (the lightest) are not always the ones with the highest PageRank (the biggest). PageRank depends on the weight of inbound links (and not just the number of them)."
   ]
  },
  {
   "cell_type": "markdown",
   "metadata": {},
   "source": [
    "### Sizing edges by value"
   ]
  },
  {
   "cell_type": "markdown",
   "metadata": {},
   "source": [
    "Finally, we might want to use weight values to change the edges sizing. Here, let's weight a tie by how many neighbors its endpoints have in common. By now, you can probably guess how to do this:"
   ]
  },
  {
   "cell_type": "code",
   "execution_count": null,
   "metadata": {},
   "outputs": [],
   "source": [
    "# Initialize a list of edge weights\n",
    "edge_weights = []\n",
    "\n",
    "# For each edge, append a weight\n",
    "for n1,n2 in edge_ids:\n",
    "    neighbors = nx.common_neighbors(nx.Graph(R),n1,n2)   # Get common neighbors of the end points\n",
    "    n_neighbors = len(list(neighbors))                   # Count how many of these neighbors they have in common\n",
    "    edge_weights.append(n_neighbors)                     # Add to the list (+1, in case no common neighbors)\n",
    "\n",
    "# Plot\n",
    "nx.draw(R, pos=pos, \n",
    "        node_size=node_sizes,\n",
    "        arrowstyle=\"->\", \n",
    "        fontsize=7, \n",
    "        node_color = node_colors,\n",
    "        edgelist = edge_ids,\n",
    "        edge_color = edge_colors,\n",
    "        nodelist = node_ids,\n",
    "        width=edge_weights,                              # Supply the edge weights\n",
    "        edge_labels = [str(i) for i in edge_weights]\n",
    "       )"
   ]
  },
  {
   "cell_type": "markdown",
   "metadata": {},
   "source": [
    "<div class=\"alert alert-success\">\n",
    "<b> Exercise: </b>\n",
    "\n",
    "- Why are some edges missing?\n",
    "- How would you fix the code so that even edges with no common neighbors are drawn?"
   ]
  },
  {
   "cell_type": "markdown",
   "metadata": {},
   "source": [
    "**Answer**: <span style=\"color:white\">\n",
    "edge_weights = []\n",
    "for n1,n2 in edge_ids:\n",
    "    neighbors = nx.common_neighbors(nx.Graph(R),n1,n2)   # Get common neighbors of the end points\n",
    "    n_neighbors = len(list(neighbors))                   # Count how many of these neighbors they have in common\n",
    "    edge_weights.append(1+n_neighbors)                     # Add to the list (+1, in case no common neighbors)\n",
    "nx.draw(R, pos=pos, \n",
    "        node_size=node_sizes,\n",
    "        arrowstyle=\"->\", \n",
    "        fontsize=7, \n",
    "        node_color = node_colors,\n",
    "        edgelist = edge_ids,\n",
    "        edge_color = edge_colors,\n",
    "        nodelist = node_ids,\n",
    "        width=edge_weights,                              # Supply the edge weights\n",
    "        edge_labels = [str(i) for i in edge_weights]\n",
    "       )"
   ]
  },
  {
   "cell_type": "markdown",
   "metadata": {},
   "source": [
    "<div class=\"alert alert-success\">\n",
    "<b> Exercise: </b>How would you change the code so that random weights are drawn?\n",
    "\n",
    "_Note_ You can draw random numbers between zero and one using `random.random()`."
   ]
  },
  {
   "cell_type": "markdown",
   "metadata": {
    "hideCode": false
   },
   "source": [
    "**Answer**: <span style=\"color:white\">\n",
    "edge_weights = []\n",
    "for e in edge_ids:\n",
    "    edge_weights.append(2*random.random())                 # Add a random weight\n",
    "nx.draw(R, pos=pos, \n",
    "        node_size=node_sizes,\n",
    "        arrowstyle=\"->\", \n",
    "        fontsize=7, \n",
    "        node_color = node_colors,\n",
    "        edgelist = edge_ids,\n",
    "        edge_color = edge_colors,\n",
    "        nodelist = node_ids,\n",
    "        width=edge_weights,                              # Supply the edge weights\n",
    "        edge_labels = [str(i) for i in edge_weights]\n",
    "       )"
   ]
  },
  {
   "cell_type": "markdown",
   "metadata": {},
   "source": [
    "### Degree histogram"
   ]
  },
  {
   "cell_type": "code",
   "execution_count": null,
   "metadata": {},
   "outputs": [],
   "source": [
    "# Get a list of all degrees\n",
    "degrees = list(dict(P.degree()).values())\n",
    "\n",
    "# Plot a histogram of the degree distribution\n",
    "plt.hist(degrees, bins=50, range = [0,200])\n",
    "plt.show()"
   ]
  },
  {
   "cell_type": "markdown",
   "metadata": {},
   "source": [
    "Today we have focused on simple network visualization charts, which are an easy and intuitve way to visualize and explore networks. However, it's worth noting that there are many different options.\n",
    "\n",
    "- **Sankey diagrams** are good for visualizing bipartite networks, such as [this visualization of European asylum-seekers](http://graphics.thomsonreuters.com/15/migrants/index.html#section-asylum):\n",
    "\n",
    "<img src=\"http://graphics.thomsonreuters.com/15/migrants/img/asylum_sankey.png\" style=\"width: 600px;\"/>\n",
    "\n",
    "- **Chord charts** are helpful for visualizing flows, such as [this graphic on illegal wildlife trading](https://www.wired.com/2015/06/using-news-reports-track-wildlife-black-markets/):\n",
    "\n",
    "<img src=\"https://media.wired.com/photos/593243af44db296121d69fca/master/w_582,c_limit/illegal-wildlife1.jpg\" style=\"width: 600px;\"/>\n",
    "\n",
    "- **Trees** and dendrograms can be used for hierarchical data, such as [this illustration of Crayola crayon color evolution in time](https://blog.revolutionanalytics.com/2010/01/crayola-crayon-colors-1949present.html):\n",
    "\n",
    "<img src=\"https://revolution-computing.typepad.com/.a/6a010534b1db25970b01287729d4b6970c-pi\" style=\"width: 600px;\"/>\n",
    "    \n",
    "\n",
    "- **Arc Diagrams** can help with linearly sequenced data, such as [these networks of biblical and religious references](https://www.theguardian.com/news/datablog/gallery/2013/sep/05/holy-infographics-bible-visualised):\n",
    "\n",
    "<img src=\"https://i.guim.co.uk/img/static/sys-images/Guardian/Pix/pictures/2013/9/5/1378376157031/all_books.png?width=1010&quality=85&auto=format&fit=max&s=63bb4c7e6ed30fd2f47078fbc86425a1\" style=\"width: 600px;\"/>\n",
    "\n",
    "<img src=\"https://i.guim.co.uk/img/static/sys-images/Guardian/Pix/pictures/2013/9/5/1378376358957/Cross_ref.png?width=1920&quality=85&auto=format&fit=max&s=47026ee5cd5f0798db7955f2e37c8020\" style=\"width: 600px;\"/>\n",
    "\n",
    "\n",
    "- **Similarity matrices** can help to highlight clustering in densely connected networks: \n",
    "<img src=\"figures/citywide_mobility.png\" style=\"width: 700px;\"/>\n",
    "\n",
    "More examples: \n",
    "- https://python-graph-gallery.com\n",
    "- https://flowingdata.com/category/visualization/network-visualization/\n",
    "\n",
    "The right visualization depends on the type of data you have, how much of it there is, and the key messages you want to highlight."
   ]
  },
  {
   "cell_type": "code",
   "execution_count": null,
   "metadata": {},
   "outputs": [],
   "source": []
  }
 ],
 "metadata": {
  "celltoolbar": "Hide code",
  "kernelspec": {
   "display_name": "Python 3",
   "language": "python",
   "name": "python3"
  },
  "language_info": {
   "codemirror_mode": {
    "name": "ipython",
    "version": 3
   },
   "file_extension": ".py",
   "mimetype": "text/x-python",
   "name": "python",
   "nbconvert_exporter": "python",
   "pygments_lexer": "ipython3",
   "version": "3.7.0"
  },
  "latex_envs": {
   "LaTeX_envs_menu_present": true,
   "autoclose": false,
   "autocomplete": true,
   "bibliofile": "biblio.bib",
   "cite_by": "apalike",
   "current_citInitial": 1,
   "eqLabelWithNumbers": true,
   "eqNumInitial": 1,
   "hotkeys": {
    "equation": "Ctrl-E",
    "itemize": "Ctrl-I"
   },
   "labels_anchors": false,
   "latex_user_defs": false,
   "report_style_numbering": false,
   "user_envs_cfg": false
  },
  "toc": {
   "base_numbering": 1,
   "nav_menu": {},
   "number_sections": true,
   "sideBar": true,
   "skip_h1_title": false,
   "title_cell": "Table of Contents",
   "title_sidebar": "Contents",
   "toc_cell": true,
   "toc_position": {
    "height": "calc(100% - 180px)",
    "left": "10px",
    "top": "150px",
    "width": "258.963px"
   },
   "toc_section_display": true,
   "toc_window_display": false
  },
  "varInspector": {
   "cols": {
    "lenName": 16,
    "lenType": 16,
    "lenVar": 40
   },
   "kernels_config": {
    "python": {
     "delete_cmd_postfix": "",
     "delete_cmd_prefix": "del ",
     "library": "var_list.py",
     "varRefreshCmd": "print(var_dic_list())"
    },
    "r": {
     "delete_cmd_postfix": ") ",
     "delete_cmd_prefix": "rm(",
     "library": "var_list.r",
     "varRefreshCmd": "cat(var_dic_list()) "
    }
   },
   "types_to_exclude": [
    "module",
    "function",
    "builtin_function_or_method",
    "instance",
    "_Feature"
   ],
   "window_display": false
  }
 },
 "nbformat": 4,
 "nbformat_minor": 2
}
